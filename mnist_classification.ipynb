{
  "nbformat": 4,
  "nbformat_minor": 0,
  "metadata": {
    "colab": {
      "name": "mnist_classification.ipynb",
      "provenance": [],
      "collapsed_sections": [],
      "authorship_tag": "ABX9TyNbVmjEfWjHUCj6uWIeRVv5"
    },
    "kernelspec": {
      "name": "python3",
      "display_name": "Python 3"
    },
    "language_info": {
      "name": "python"
    },
    "widgets": {
      "application/vnd.jupyter.widget-state+json": {
        "d066ee84d2d0424fb0adce960152a63f": {
          "model_module": "@jupyter-widgets/controls",
          "model_name": "HBoxModel",
          "model_module_version": "1.5.0",
          "state": {
            "_view_name": "HBoxView",
            "_dom_classes": [],
            "_model_name": "HBoxModel",
            "_view_module": "@jupyter-widgets/controls",
            "_model_module_version": "1.5.0",
            "_view_count": null,
            "_view_module_version": "1.5.0",
            "box_style": "",
            "layout": "IPY_MODEL_3bc1a0b6507b43fca4a4e5b868db6cbe",
            "_model_module": "@jupyter-widgets/controls",
            "children": [
              "IPY_MODEL_2c18c7abc452469289e9c33fd82d81b0",
              "IPY_MODEL_b84f803a7261411886d522581b01c1eb",
              "IPY_MODEL_408d5998ebd849dba637a934fa41d88f"
            ]
          }
        },
        "3bc1a0b6507b43fca4a4e5b868db6cbe": {
          "model_module": "@jupyter-widgets/base",
          "model_name": "LayoutModel",
          "model_module_version": "1.2.0",
          "state": {
            "_view_name": "LayoutView",
            "grid_template_rows": null,
            "right": null,
            "justify_content": null,
            "_view_module": "@jupyter-widgets/base",
            "overflow": null,
            "_model_module_version": "1.2.0",
            "_view_count": null,
            "flex_flow": null,
            "width": null,
            "min_width": null,
            "border": null,
            "align_items": null,
            "bottom": null,
            "_model_module": "@jupyter-widgets/base",
            "top": null,
            "grid_column": null,
            "overflow_y": null,
            "overflow_x": null,
            "grid_auto_flow": null,
            "grid_area": null,
            "grid_template_columns": null,
            "flex": null,
            "_model_name": "LayoutModel",
            "justify_items": null,
            "grid_row": null,
            "max_height": null,
            "align_content": null,
            "visibility": null,
            "align_self": null,
            "height": null,
            "min_height": null,
            "padding": null,
            "grid_auto_rows": null,
            "grid_gap": null,
            "max_width": null,
            "order": null,
            "_view_module_version": "1.2.0",
            "grid_template_areas": null,
            "object_position": null,
            "object_fit": null,
            "grid_auto_columns": null,
            "margin": null,
            "display": null,
            "left": null
          }
        },
        "2c18c7abc452469289e9c33fd82d81b0": {
          "model_module": "@jupyter-widgets/controls",
          "model_name": "HTMLModel",
          "model_module_version": "1.5.0",
          "state": {
            "_view_name": "HTMLView",
            "style": "IPY_MODEL_bcb028e457c84cdcaff4895fc135b2d3",
            "_dom_classes": [],
            "description": "",
            "_model_name": "HTMLModel",
            "placeholder": "​",
            "_view_module": "@jupyter-widgets/controls",
            "_model_module_version": "1.5.0",
            "value": "Dl Completed...: 100%",
            "_view_count": null,
            "_view_module_version": "1.5.0",
            "description_tooltip": null,
            "_model_module": "@jupyter-widgets/controls",
            "layout": "IPY_MODEL_246f5aa76c9a4141b7a7c967fb74be83"
          }
        },
        "b84f803a7261411886d522581b01c1eb": {
          "model_module": "@jupyter-widgets/controls",
          "model_name": "FloatProgressModel",
          "model_module_version": "1.5.0",
          "state": {
            "_view_name": "ProgressView",
            "style": "IPY_MODEL_8f75f22717f0485aac9b9acb0a90bc8a",
            "_dom_classes": [],
            "description": "",
            "_model_name": "FloatProgressModel",
            "bar_style": "success",
            "max": 4,
            "_view_module": "@jupyter-widgets/controls",
            "_model_module_version": "1.5.0",
            "value": 4,
            "_view_count": null,
            "_view_module_version": "1.5.0",
            "orientation": "horizontal",
            "min": 0,
            "description_tooltip": null,
            "_model_module": "@jupyter-widgets/controls",
            "layout": "IPY_MODEL_f2cf833d68f94c65b314f2b7eee08695"
          }
        },
        "408d5998ebd849dba637a934fa41d88f": {
          "model_module": "@jupyter-widgets/controls",
          "model_name": "HTMLModel",
          "model_module_version": "1.5.0",
          "state": {
            "_view_name": "HTMLView",
            "style": "IPY_MODEL_fe36f513f3db45a48f41a4bc3e280e32",
            "_dom_classes": [],
            "description": "",
            "_model_name": "HTMLModel",
            "placeholder": "​",
            "_view_module": "@jupyter-widgets/controls",
            "_model_module_version": "1.5.0",
            "value": " 4/4 [00:00&lt;00:00, 12.13 file/s]",
            "_view_count": null,
            "_view_module_version": "1.5.0",
            "description_tooltip": null,
            "_model_module": "@jupyter-widgets/controls",
            "layout": "IPY_MODEL_7e51d454b1444556877fc2c362c9f9ad"
          }
        },
        "bcb028e457c84cdcaff4895fc135b2d3": {
          "model_module": "@jupyter-widgets/controls",
          "model_name": "DescriptionStyleModel",
          "model_module_version": "1.5.0",
          "state": {
            "_view_name": "StyleView",
            "_model_name": "DescriptionStyleModel",
            "description_width": "",
            "_view_module": "@jupyter-widgets/base",
            "_model_module_version": "1.5.0",
            "_view_count": null,
            "_view_module_version": "1.2.0",
            "_model_module": "@jupyter-widgets/controls"
          }
        },
        "246f5aa76c9a4141b7a7c967fb74be83": {
          "model_module": "@jupyter-widgets/base",
          "model_name": "LayoutModel",
          "model_module_version": "1.2.0",
          "state": {
            "_view_name": "LayoutView",
            "grid_template_rows": null,
            "right": null,
            "justify_content": null,
            "_view_module": "@jupyter-widgets/base",
            "overflow": null,
            "_model_module_version": "1.2.0",
            "_view_count": null,
            "flex_flow": null,
            "width": null,
            "min_width": null,
            "border": null,
            "align_items": null,
            "bottom": null,
            "_model_module": "@jupyter-widgets/base",
            "top": null,
            "grid_column": null,
            "overflow_y": null,
            "overflow_x": null,
            "grid_auto_flow": null,
            "grid_area": null,
            "grid_template_columns": null,
            "flex": null,
            "_model_name": "LayoutModel",
            "justify_items": null,
            "grid_row": null,
            "max_height": null,
            "align_content": null,
            "visibility": null,
            "align_self": null,
            "height": null,
            "min_height": null,
            "padding": null,
            "grid_auto_rows": null,
            "grid_gap": null,
            "max_width": null,
            "order": null,
            "_view_module_version": "1.2.0",
            "grid_template_areas": null,
            "object_position": null,
            "object_fit": null,
            "grid_auto_columns": null,
            "margin": null,
            "display": null,
            "left": null
          }
        },
        "8f75f22717f0485aac9b9acb0a90bc8a": {
          "model_module": "@jupyter-widgets/controls",
          "model_name": "ProgressStyleModel",
          "model_module_version": "1.5.0",
          "state": {
            "_view_name": "StyleView",
            "_model_name": "ProgressStyleModel",
            "description_width": "",
            "_view_module": "@jupyter-widgets/base",
            "_model_module_version": "1.5.0",
            "_view_count": null,
            "_view_module_version": "1.2.0",
            "bar_color": null,
            "_model_module": "@jupyter-widgets/controls"
          }
        },
        "f2cf833d68f94c65b314f2b7eee08695": {
          "model_module": "@jupyter-widgets/base",
          "model_name": "LayoutModel",
          "model_module_version": "1.2.0",
          "state": {
            "_view_name": "LayoutView",
            "grid_template_rows": null,
            "right": null,
            "justify_content": null,
            "_view_module": "@jupyter-widgets/base",
            "overflow": null,
            "_model_module_version": "1.2.0",
            "_view_count": null,
            "flex_flow": null,
            "width": null,
            "min_width": null,
            "border": null,
            "align_items": null,
            "bottom": null,
            "_model_module": "@jupyter-widgets/base",
            "top": null,
            "grid_column": null,
            "overflow_y": null,
            "overflow_x": null,
            "grid_auto_flow": null,
            "grid_area": null,
            "grid_template_columns": null,
            "flex": null,
            "_model_name": "LayoutModel",
            "justify_items": null,
            "grid_row": null,
            "max_height": null,
            "align_content": null,
            "visibility": null,
            "align_self": null,
            "height": null,
            "min_height": null,
            "padding": null,
            "grid_auto_rows": null,
            "grid_gap": null,
            "max_width": null,
            "order": null,
            "_view_module_version": "1.2.0",
            "grid_template_areas": null,
            "object_position": null,
            "object_fit": null,
            "grid_auto_columns": null,
            "margin": null,
            "display": null,
            "left": null
          }
        },
        "fe36f513f3db45a48f41a4bc3e280e32": {
          "model_module": "@jupyter-widgets/controls",
          "model_name": "DescriptionStyleModel",
          "model_module_version": "1.5.0",
          "state": {
            "_view_name": "StyleView",
            "_model_name": "DescriptionStyleModel",
            "description_width": "",
            "_view_module": "@jupyter-widgets/base",
            "_model_module_version": "1.5.0",
            "_view_count": null,
            "_view_module_version": "1.2.0",
            "_model_module": "@jupyter-widgets/controls"
          }
        },
        "7e51d454b1444556877fc2c362c9f9ad": {
          "model_module": "@jupyter-widgets/base",
          "model_name": "LayoutModel",
          "model_module_version": "1.2.0",
          "state": {
            "_view_name": "LayoutView",
            "grid_template_rows": null,
            "right": null,
            "justify_content": null,
            "_view_module": "@jupyter-widgets/base",
            "overflow": null,
            "_model_module_version": "1.2.0",
            "_view_count": null,
            "flex_flow": null,
            "width": null,
            "min_width": null,
            "border": null,
            "align_items": null,
            "bottom": null,
            "_model_module": "@jupyter-widgets/base",
            "top": null,
            "grid_column": null,
            "overflow_y": null,
            "overflow_x": null,
            "grid_auto_flow": null,
            "grid_area": null,
            "grid_template_columns": null,
            "flex": null,
            "_model_name": "LayoutModel",
            "justify_items": null,
            "grid_row": null,
            "max_height": null,
            "align_content": null,
            "visibility": null,
            "align_self": null,
            "height": null,
            "min_height": null,
            "padding": null,
            "grid_auto_rows": null,
            "grid_gap": null,
            "max_width": null,
            "order": null,
            "_view_module_version": "1.2.0",
            "grid_template_areas": null,
            "object_position": null,
            "object_fit": null,
            "grid_auto_columns": null,
            "margin": null,
            "display": null,
            "left": null
          }
        }
      }
    }
  },
  "cells": [
    {
      "cell_type": "markdown",
      "metadata": {
        "id": "kutTS0g1-Kk8"
      },
      "source": [
        "##**Deep Neural Networks for MNIST Classification**\n",
        "\n",
        "Pipeline ▶\n",
        "  - Prepare/Preprocess Data ▶ Split Data ▶ Train, Validate, Test.\n",
        "  - Outline model, choose activation functions.\n",
        "  - Set the appropriate advanced optimizers and loss function.\n",
        "  - Make it learn/Train.\n",
        "  - Test accuracy of the model."
      ]
    },
    {
      "cell_type": "code",
      "metadata": {
        "id": "JniE1DN3-MCT"
      },
      "source": [
        "# import relevant packages\n",
        "import numpy as np\n",
        "import pandas as pd\n",
        "import tensorflow as tf\n",
        "\n",
        "import tensorflow_datasets as tfds"
      ],
      "execution_count": 1,
      "outputs": []
    },
    {
      "cell_type": "markdown",
      "metadata": {
        "id": "JRMnO57p-Mm9"
      },
      "source": [
        "### Acquire Data"
      ]
    },
    {
      "cell_type": "code",
      "metadata": {
        "colab": {
          "base_uri": "https://localhost:8080/",
          "height": 208,
          "referenced_widgets": [
            "d066ee84d2d0424fb0adce960152a63f",
            "3bc1a0b6507b43fca4a4e5b868db6cbe",
            "2c18c7abc452469289e9c33fd82d81b0",
            "b84f803a7261411886d522581b01c1eb",
            "408d5998ebd849dba637a934fa41d88f",
            "bcb028e457c84cdcaff4895fc135b2d3",
            "246f5aa76c9a4141b7a7c967fb74be83",
            "8f75f22717f0485aac9b9acb0a90bc8a",
            "f2cf833d68f94c65b314f2b7eee08695",
            "fe36f513f3db45a48f41a4bc3e280e32",
            "7e51d454b1444556877fc2c362c9f9ad"
          ]
        },
        "id": "yQPe0qHw-MrR",
        "outputId": "0f048ae2-925a-4e98-9147-588ae775b406"
      },
      "source": [
        "# load dataset \n",
        "# as_supervised, loads into two tuple structure [input, target]\n",
        "# with_info, provides tuple with info about version, features, number of samples\n",
        "mnist_dataset, mnist_info = tfds.load(name='mnist', with_info=True, as_supervised=True)"
      ],
      "execution_count": 2,
      "outputs": [
        {
          "output_type": "stream",
          "name": "stdout",
          "text": [
            "\u001b[1mDownloading and preparing dataset mnist/3.0.1 (download: 11.06 MiB, generated: 21.00 MiB, total: 32.06 MiB) to /root/tensorflow_datasets/mnist/3.0.1...\u001b[0m\n"
          ]
        },
        {
          "output_type": "stream",
          "name": "stderr",
          "text": [
            "WARNING:absl:Dataset mnist is hosted on GCS. It will automatically be downloaded to your\n",
            "local data directory. If you'd instead prefer to read directly from our public\n",
            "GCS bucket (recommended if you're running on GCP), you can instead pass\n",
            "`try_gcs=True` to `tfds.load` or set `data_dir=gs://tfds-data/datasets`.\n",
            "\n"
          ]
        },
        {
          "output_type": "display_data",
          "data": {
            "application/vnd.jupyter.widget-view+json": {
              "model_id": "d066ee84d2d0424fb0adce960152a63f",
              "version_minor": 0,
              "version_major": 2
            },
            "text/plain": [
              "Dl Completed...:   0%|          | 0/4 [00:00<?, ? file/s]"
            ]
          },
          "metadata": {}
        },
        {
          "output_type": "stream",
          "name": "stdout",
          "text": [
            "\n",
            "\u001b[1mDataset mnist downloaded and prepared to /root/tensorflow_datasets/mnist/3.0.1. Subsequent calls will reuse this data.\u001b[0m\n"
          ]
        }
      ]
    },
    {
      "cell_type": "code",
      "metadata": {
        "colab": {
          "base_uri": "https://localhost:8080/"
        },
        "id": "kKg_jjEY-Mux",
        "outputId": "b36055e7-835d-4e12-faa2-a67841e15f5f"
      },
      "source": [
        "# look at dataset\n",
        "mnist_dataset"
      ],
      "execution_count": 3,
      "outputs": [
        {
          "output_type": "execute_result",
          "data": {
            "text/plain": [
              "{'test': <PrefetchDataset shapes: ((28, 28, 1), ()), types: (tf.uint8, tf.int64)>,\n",
              " 'train': <PrefetchDataset shapes: ((28, 28, 1), ()), types: (tf.uint8, tf.int64)>}"
            ]
          },
          "metadata": {},
          "execution_count": 3
        }
      ]
    },
    {
      "cell_type": "code",
      "metadata": {
        "colab": {
          "base_uri": "https://localhost:8080/"
        },
        "id": "AtE_CiszG0sA",
        "outputId": "1cf665a5-71ca-4b61-ff00-75c50cdc42fa"
      },
      "source": [
        "# get info\n",
        "mnist_info"
      ],
      "execution_count": 4,
      "outputs": [
        {
          "output_type": "execute_result",
          "data": {
            "text/plain": [
              "tfds.core.DatasetInfo(\n",
              "    name='mnist',\n",
              "    version=3.0.1,\n",
              "    description='The MNIST database of handwritten digits.',\n",
              "    homepage='http://yann.lecun.com/exdb/mnist/',\n",
              "    features=FeaturesDict({\n",
              "        'image': Image(shape=(28, 28, 1), dtype=tf.uint8),\n",
              "        'label': ClassLabel(shape=(), dtype=tf.int64, num_classes=10),\n",
              "    }),\n",
              "    total_num_examples=70000,\n",
              "    splits={\n",
              "        'test': 10000,\n",
              "        'train': 60000,\n",
              "    },\n",
              "    supervised_keys=('image', 'label'),\n",
              "    citation=\"\"\"@article{lecun2010mnist,\n",
              "      title={MNIST handwritten digit database},\n",
              "      author={LeCun, Yann and Cortes, Corinna and Burges, CJ},\n",
              "      journal={ATT Labs [Online]. Available: http://yann.lecun.com/exdb/mnist},\n",
              "      volume={2},\n",
              "      year={2010}\n",
              "    }\"\"\",\n",
              "    redistribution_info=,\n",
              ")"
            ]
          },
          "metadata": {},
          "execution_count": 4
        }
      ]
    },
    {
      "cell_type": "markdown",
      "metadata": {
        "id": "9PSoT2U9ajoY"
      },
      "source": [
        "### Prepare Data"
      ]
    },
    {
      "cell_type": "code",
      "metadata": {
        "id": "jTUWIj4OHH5u"
      },
      "source": [
        "mnist_train = mnist_dataset['train']\n",
        "mnist_test = mnist_dataset['test']"
      ],
      "execution_count": 5,
      "outputs": []
    },
    {
      "cell_type": "code",
      "metadata": {
        "id": "D77PqbVkR4-D"
      },
      "source": [
        "num_validation_samples = 0.1 * mnist_info.splits['train'].num_examples\n",
        "\n",
        "# convert num_validation_samples into a tensorflow integers\n",
        "num_validation_samples = tf.cast(num_validation_samples, tf.int64) \n",
        "\n",
        "num_test_samples = mnist_info.splits['test'].num_examples\n",
        "num_test_samples = tf.cast(num_test_samples, tf.int64) "
      ],
      "execution_count": 6,
      "outputs": []
    },
    {
      "cell_type": "code",
      "metadata": {
        "id": "1b_qiwbSYm9i"
      },
      "source": [
        "# create a function to scale our data\n",
        "\n",
        "# the function below replicates a tensorflow function dataset.map(*function*)\n",
        "\n",
        "# image and label are both inputs\n",
        "def scale(image, label):\n",
        "  '''\n",
        "  This function takes in an image and label, converts them to floats, scales them on a scale from 0 to 1 \n",
        "  by dividing by 255 (0 to 256, the # of shades of gray)\n",
        "  '''\n",
        "  image = tf.cast(image, tf.float32)\n",
        "  image /= 255. # signifies we want image to be float\n",
        "\n",
        "  return image, label\n"
      ],
      "execution_count": 7,
      "outputs": []
    },
    {
      "cell_type": "code",
      "metadata": {
        "id": "N4yS3j1PYnQo"
      },
      "source": [
        "scaled_train_and_validation_data = mnist_train.map(scale)\n",
        "\n",
        "scaled_test_data = mnist_test.map(scale)"
      ],
      "execution_count": 8,
      "outputs": []
    },
    {
      "cell_type": "markdown",
      "metadata": {
        "id": "MjbtPh6Obgmr"
      },
      "source": [
        "**Shuffle Data**"
      ]
    },
    {
      "cell_type": "code",
      "metadata": {
        "id": "xMKI79jxYnhu"
      },
      "source": [
        "# shuffle data for algorithm\n",
        "# shuffle 10_000 values at once\n",
        "BUFFER_SIZE = 10_000\n",
        "\n",
        "\n",
        "shuffled_train_and_validation_data = scaled_train_and_validation_data.shuffle(BUFFER_SIZE)\n",
        "\n",
        "validation_data = shuffled_train_and_validation_data.take(num_validation_samples)\n",
        "train_data = shuffled_train_and_validation_data.skip(num_validation_samples)"
      ],
      "execution_count": 9,
      "outputs": []
    },
    {
      "cell_type": "markdown",
      "metadata": {
        "id": "hEZY16UTfzin"
      },
      "source": [
        "**Batching**\n",
        "- Why? To increment performance and decrease memory usage"
      ]
    },
    {
      "cell_type": "code",
      "metadata": {
        "id": "W8a_CoKqYnnK"
      },
      "source": [
        "BATCH_SIZE = 100\n",
        "\n",
        "# assign batch size for backpropagation, also creates a column in the tensor \n",
        "train_data = train_data.batch(BATCH_SIZE)\n",
        "\n",
        "# assign validate and test data as one whole batch, keeping dimensionality the same\n",
        "validation_data = validation_data.batch(num_validation_samples)\n",
        "test_data = scaled_test_data.batch(num_test_samples)\n",
        "\n",
        "validation_inputs, validation_targets = next(iter(validation_data))"
      ],
      "execution_count": 10,
      "outputs": []
    },
    {
      "cell_type": "markdown",
      "metadata": {
        "id": "l2zFlA-GwH40"
      },
      "source": [
        "### Model\n",
        "\n",
        "Outline Model"
      ]
    },
    {
      "cell_type": "code",
      "metadata": {
        "id": "qs-6NALjwL4W"
      },
      "source": [
        "# dimension of data\n",
        "input_size = 28*28*1\n",
        "# number of targets (0 to 9)\n",
        "output_size = 10\n",
        "# width of nn, number of neurons\n",
        "hidden_layer_size = 50\n",
        "\n",
        "model_1 = tf.keras.Sequential([\n",
        "                               # flatten into one dimensional layer\n",
        "                               tf.keras.layers.Flatten(input_shape=(28,28,1)),\n",
        "\n",
        "                               # assess first hidden layer, relu type of algorithm\n",
        "                               tf.keras.layers.Dense(hidden_layer_size, activation='relu'),\n",
        "\n",
        "                               # assess second hidden layer\n",
        "                               tf.keras.layers.Dense(hidden_layer_size, activation='relu'),\n",
        "\n",
        "                               # address final output layer, use softmax since later must transform data to probability\n",
        "                               tf.keras.layers.Dense(output_size, activation='softmax')\n",
        "                               ])"
      ],
      "execution_count": 11,
      "outputs": []
    },
    {
      "cell_type": "markdown",
      "metadata": {
        "id": "a3PiRQNr3ghW"
      },
      "source": [
        "Choose Optimizer and Loss Function"
      ]
    },
    {
      "cell_type": "code",
      "metadata": {
        "id": "OEoXLngG3--m"
      },
      "source": [
        "# choose optimizer and loss\n",
        "# sparse categorical crossentropy for data not yet one hot encoded (will apply one hot encoding for output)\n",
        "model_1.compile(optimizer='adam', loss='sparse_categorical_crossentropy', metrics='accuracy')"
      ],
      "execution_count": 12,
      "outputs": []
    },
    {
      "cell_type": "markdown",
      "metadata": {
        "id": "SXfFVqBs3_GW"
      },
      "source": [
        "Training"
      ]
    },
    {
      "cell_type": "code",
      "metadata": {
        "colab": {
          "base_uri": "https://localhost:8080/"
        },
        "id": "3yj08AG66bep",
        "outputId": "1dbf86e8-89ed-45ac-94bf-d6dcb55e0c7b"
      },
      "source": [
        "# assign number of epochs\n",
        "num_epochs = 5\n",
        "\n",
        "# fit model\n",
        "model_1.fit(train_data, epochs=num_epochs, validation_data=(validation_inputs, validation_targets), verbose=2)"
      ],
      "execution_count": 13,
      "outputs": [
        {
          "output_type": "stream",
          "name": "stdout",
          "text": [
            "Epoch 1/5\n",
            "540/540 - 8s - loss: 0.4134 - accuracy: 0.8834 - val_loss: 0.2097 - val_accuracy: 0.9390 - 8s/epoch - 15ms/step\n",
            "Epoch 2/5\n",
            "540/540 - 4s - loss: 0.1724 - accuracy: 0.9500 - val_loss: 0.1528 - val_accuracy: 0.9565 - 4s/epoch - 7ms/step\n",
            "Epoch 3/5\n",
            "540/540 - 4s - loss: 0.1317 - accuracy: 0.9608 - val_loss: 0.1270 - val_accuracy: 0.9635 - 4s/epoch - 7ms/step\n",
            "Epoch 4/5\n",
            "540/540 - 4s - loss: 0.1081 - accuracy: 0.9679 - val_loss: 0.1101 - val_accuracy: 0.9673 - 4s/epoch - 7ms/step\n",
            "Epoch 5/5\n",
            "540/540 - 4s - loss: 0.0923 - accuracy: 0.9722 - val_loss: 0.0949 - val_accuracy: 0.9715 - 4s/epoch - 7ms/step\n"
          ]
        },
        {
          "output_type": "execute_result",
          "data": {
            "text/plain": [
              "<keras.callbacks.History at 0x7f3a9390c810>"
            ]
          },
          "metadata": {},
          "execution_count": 13
        }
      ]
    },
    {
      "cell_type": "markdown",
      "source": [
        "**Run cell again for optimization**"
      ],
      "metadata": {
        "id": "KfC4c-qO1xvg"
      }
    },
    {
      "cell_type": "code",
      "source": [
        "# assign number of epochs\n",
        "num_epochs = 5\n",
        "\n",
        "# fit model\n",
        "model_1.fit(train_data, epochs=num_epochs, validation_data=(validation_inputs, validation_targets), verbose=2)"
      ],
      "metadata": {
        "colab": {
          "base_uri": "https://localhost:8080/"
        },
        "id": "p-xX2yIw1uey",
        "outputId": "582badb6-ee31-49a1-90f4-e07af77cc8e1"
      },
      "execution_count": 14,
      "outputs": [
        {
          "output_type": "stream",
          "name": "stdout",
          "text": [
            "Epoch 1/5\n",
            "540/540 - 4s - loss: 0.0789 - accuracy: 0.9766 - val_loss: 0.0943 - val_accuracy: 0.9743 - 4s/epoch - 7ms/step\n",
            "Epoch 2/5\n",
            "540/540 - 4s - loss: 0.0685 - accuracy: 0.9785 - val_loss: 0.0792 - val_accuracy: 0.9795 - 4s/epoch - 7ms/step\n",
            "Epoch 3/5\n",
            "540/540 - 4s - loss: 0.0598 - accuracy: 0.9815 - val_loss: 0.0875 - val_accuracy: 0.9750 - 4s/epoch - 7ms/step\n",
            "Epoch 4/5\n",
            "540/540 - 4s - loss: 0.0544 - accuracy: 0.9834 - val_loss: 0.0693 - val_accuracy: 0.9798 - 4s/epoch - 7ms/step\n",
            "Epoch 5/5\n",
            "540/540 - 4s - loss: 0.0487 - accuracy: 0.9851 - val_loss: 0.0696 - val_accuracy: 0.9802 - 4s/epoch - 7ms/step\n"
          ]
        },
        {
          "output_type": "execute_result",
          "data": {
            "text/plain": [
              "<keras.callbacks.History at 0x7f3a9361d1d0>"
            ]
          },
          "metadata": {},
          "execution_count": 14
        }
      ]
    },
    {
      "cell_type": "code",
      "source": [
        "# assign number of epochs\n",
        "num_epochs = 10\n",
        "\n",
        "# fit model\n",
        "model_1.fit(train_data, epochs=num_epochs, validation_data=(validation_inputs, validation_targets), verbose=2)"
      ],
      "metadata": {
        "colab": {
          "base_uri": "https://localhost:8080/"
        },
        "id": "XdymGdet1uMY",
        "outputId": "f968d4be-7ab7-43af-88a3-48e53c66c252"
      },
      "execution_count": 15,
      "outputs": [
        {
          "output_type": "stream",
          "name": "stdout",
          "text": [
            "Epoch 1/10\n",
            "540/540 - 4s - loss: 0.0427 - accuracy: 0.9870 - val_loss: 0.0595 - val_accuracy: 0.9825 - 4s/epoch - 7ms/step\n",
            "Epoch 2/10\n",
            "540/540 - 4s - loss: 0.0387 - accuracy: 0.9881 - val_loss: 0.0655 - val_accuracy: 0.9820 - 4s/epoch - 7ms/step\n",
            "Epoch 3/10\n",
            "540/540 - 4s - loss: 0.0355 - accuracy: 0.9892 - val_loss: 0.0556 - val_accuracy: 0.9828 - 4s/epoch - 7ms/step\n",
            "Epoch 4/10\n",
            "540/540 - 4s - loss: 0.0314 - accuracy: 0.9900 - val_loss: 0.0545 - val_accuracy: 0.9827 - 4s/epoch - 7ms/step\n",
            "Epoch 5/10\n",
            "540/540 - 4s - loss: 0.0288 - accuracy: 0.9910 - val_loss: 0.0469 - val_accuracy: 0.9855 - 4s/epoch - 7ms/step\n",
            "Epoch 6/10\n",
            "540/540 - 4s - loss: 0.0268 - accuracy: 0.9918 - val_loss: 0.0414 - val_accuracy: 0.9868 - 4s/epoch - 7ms/step\n",
            "Epoch 7/10\n",
            "540/540 - 4s - loss: 0.0226 - accuracy: 0.9933 - val_loss: 0.0350 - val_accuracy: 0.9888 - 4s/epoch - 7ms/step\n",
            "Epoch 8/10\n",
            "540/540 - 4s - loss: 0.0207 - accuracy: 0.9938 - val_loss: 0.0350 - val_accuracy: 0.9888 - 4s/epoch - 7ms/step\n",
            "Epoch 9/10\n",
            "540/540 - 4s - loss: 0.0192 - accuracy: 0.9941 - val_loss: 0.0312 - val_accuracy: 0.9913 - 4s/epoch - 7ms/step\n",
            "Epoch 10/10\n",
            "540/540 - 4s - loss: 0.0194 - accuracy: 0.9941 - val_loss: 0.0361 - val_accuracy: 0.9878 - 4s/epoch - 7ms/step\n"
          ]
        },
        {
          "output_type": "execute_result",
          "data": {
            "text/plain": [
              "<keras.callbacks.History at 0x7f3a935df710>"
            ]
          },
          "metadata": {},
          "execution_count": 15
        }
      ]
    },
    {
      "cell_type": "markdown",
      "source": [
        "## Model 2\n",
        "- Try with hidden layer size 100"
      ],
      "metadata": {
        "id": "halz2-kxCBuJ"
      }
    },
    {
      "cell_type": "code",
      "source": [
        "# dimension of data\n",
        "input_size = 28*28*1\n",
        "# number of targets (0 to 9)\n",
        "output_size = 10\n",
        "# width of nn, number of neurons\n",
        "hidden_layer_size = 100\n",
        "\n",
        "model_2 = tf.keras.Sequential([\n",
        "                               # flatten into one dimensional layer\n",
        "                               tf.keras.layers.Flatten(input_shape=(28,28,1)),\n",
        "\n",
        "                               # assess first hidden layer, relu type of algorithm\n",
        "                               tf.keras.layers.Dense(hidden_layer_size, activation='relu'),\n",
        "\n",
        "                               # assess second hidden layer\n",
        "                               tf.keras.layers.Dense(hidden_layer_size, activation='relu'),\n",
        "\n",
        "                               # address final output layer, use softmax since later must transform data to probability\n",
        "                               tf.keras.layers.Dense(output_size, activation='softmax')\n",
        "                               ])\n",
        "\n",
        "\n",
        "# choose optimizer and loss\n",
        "# sparse categorical crossentropy for data not yet one hot encoded (will apply one hot encoding for output)\n",
        "model_2.compile(optimizer='adam', loss='sparse_categorical_crossentropy', metrics='accuracy')"
      ],
      "metadata": {
        "id": "veBwXs5VCE1f"
      },
      "execution_count": 19,
      "outputs": []
    },
    {
      "cell_type": "code",
      "source": [
        "# assign number of epochs\n",
        "num_epochs = 65\n",
        "\n",
        "# fit model\n",
        "model_2.fit(train_data, epochs=num_epochs, validation_data=(validation_inputs, validation_targets), verbose=2)"
      ],
      "metadata": {
        "colab": {
          "base_uri": "https://localhost:8080/"
        },
        "id": "C1nDZn5TCEyt",
        "outputId": "ebee53bd-cae9-4870-d46c-b9600a7c446f"
      },
      "execution_count": null,
      "outputs": [
        {
          "output_type": "stream",
          "name": "stdout",
          "text": [
            "Epoch 1/65\n",
            "540/540 - 5s - loss: 0.3351 - accuracy: 0.9047 - val_loss: 0.1696 - val_accuracy: 0.9488 - 5s/epoch - 9ms/step\n",
            "Epoch 2/65\n",
            "540/540 - 4s - loss: 0.1384 - accuracy: 0.9595 - val_loss: 0.1209 - val_accuracy: 0.9642 - 4s/epoch - 8ms/step\n",
            "Epoch 3/65\n",
            "540/540 - 4s - loss: 0.0964 - accuracy: 0.9711 - val_loss: 0.0925 - val_accuracy: 0.9717 - 4s/epoch - 7ms/step\n",
            "Epoch 4/65\n",
            "540/540 - 4s - loss: 0.0735 - accuracy: 0.9774 - val_loss: 0.0768 - val_accuracy: 0.9760 - 4s/epoch - 8ms/step\n",
            "Epoch 5/65\n",
            "540/540 - 4s - loss: 0.0578 - accuracy: 0.9823 - val_loss: 0.0697 - val_accuracy: 0.9788 - 4s/epoch - 7ms/step\n",
            "Epoch 6/65\n",
            "540/540 - 4s - loss: 0.0461 - accuracy: 0.9859 - val_loss: 0.0580 - val_accuracy: 0.9827 - 4s/epoch - 8ms/step\n",
            "Epoch 7/65\n",
            "540/540 - 4s - loss: 0.0385 - accuracy: 0.9882 - val_loss: 0.0513 - val_accuracy: 0.9848 - 4s/epoch - 8ms/step\n",
            "Epoch 8/65\n",
            "540/540 - 4s - loss: 0.0336 - accuracy: 0.9896 - val_loss: 0.0430 - val_accuracy: 0.9870 - 4s/epoch - 8ms/step\n",
            "Epoch 9/65\n",
            "540/540 - 4s - loss: 0.0299 - accuracy: 0.9910 - val_loss: 0.0387 - val_accuracy: 0.9880 - 4s/epoch - 8ms/step\n",
            "Epoch 10/65\n",
            "540/540 - 4s - loss: 0.0248 - accuracy: 0.9923 - val_loss: 0.0367 - val_accuracy: 0.9893 - 4s/epoch - 8ms/step\n",
            "Epoch 11/65\n",
            "540/540 - 4s - loss: 0.0197 - accuracy: 0.9941 - val_loss: 0.0292 - val_accuracy: 0.9907 - 4s/epoch - 8ms/step\n",
            "Epoch 12/65\n",
            "540/540 - 4s - loss: 0.0181 - accuracy: 0.9942 - val_loss: 0.0286 - val_accuracy: 0.9908 - 4s/epoch - 8ms/step\n",
            "Epoch 13/65\n",
            "540/540 - 4s - loss: 0.0159 - accuracy: 0.9950 - val_loss: 0.0205 - val_accuracy: 0.9942 - 4s/epoch - 8ms/step\n",
            "Epoch 14/65\n",
            "540/540 - 4s - loss: 0.0135 - accuracy: 0.9958 - val_loss: 0.0211 - val_accuracy: 0.9935 - 4s/epoch - 7ms/step\n",
            "Epoch 15/65\n",
            "540/540 - 4s - loss: 0.0139 - accuracy: 0.9955 - val_loss: 0.0270 - val_accuracy: 0.9918 - 4s/epoch - 7ms/step\n",
            "Epoch 16/65\n",
            "540/540 - 4s - loss: 0.0131 - accuracy: 0.9953 - val_loss: 0.0178 - val_accuracy: 0.9948 - 4s/epoch - 8ms/step\n",
            "Epoch 17/65\n",
            "540/540 - 4s - loss: 0.0096 - accuracy: 0.9969 - val_loss: 0.0163 - val_accuracy: 0.9958 - 4s/epoch - 8ms/step\n",
            "Epoch 18/65\n",
            "540/540 - 4s - loss: 0.0096 - accuracy: 0.9968 - val_loss: 0.0195 - val_accuracy: 0.9947 - 4s/epoch - 8ms/step\n",
            "Epoch 19/65\n",
            "540/540 - 4s - loss: 0.0099 - accuracy: 0.9967 - val_loss: 0.0124 - val_accuracy: 0.9960 - 4s/epoch - 7ms/step\n",
            "Epoch 20/65\n",
            "540/540 - 4s - loss: 0.0081 - accuracy: 0.9974 - val_loss: 0.0127 - val_accuracy: 0.9957 - 4s/epoch - 7ms/step\n",
            "Epoch 21/65\n",
            "540/540 - 4s - loss: 0.0105 - accuracy: 0.9967 - val_loss: 0.0123 - val_accuracy: 0.9960 - 4s/epoch - 7ms/step\n",
            "Epoch 22/65\n",
            "540/540 - 4s - loss: 0.0085 - accuracy: 0.9973 - val_loss: 0.0162 - val_accuracy: 0.9948 - 4s/epoch - 7ms/step\n",
            "Epoch 23/65\n",
            "540/540 - 4s - loss: 0.0107 - accuracy: 0.9963 - val_loss: 0.0198 - val_accuracy: 0.9938 - 4s/epoch - 8ms/step\n",
            "Epoch 24/65\n",
            "540/540 - 4s - loss: 0.0066 - accuracy: 0.9980 - val_loss: 0.0088 - val_accuracy: 0.9965 - 4s/epoch - 8ms/step\n",
            "Epoch 25/65\n",
            "540/540 - 4s - loss: 0.0072 - accuracy: 0.9976 - val_loss: 0.0138 - val_accuracy: 0.9965 - 4s/epoch - 7ms/step\n",
            "Epoch 26/65\n",
            "540/540 - 4s - loss: 0.0074 - accuracy: 0.9974 - val_loss: 0.0237 - val_accuracy: 0.9925 - 4s/epoch - 7ms/step\n",
            "Epoch 27/65\n",
            "540/540 - 4s - loss: 0.0082 - accuracy: 0.9974 - val_loss: 0.0123 - val_accuracy: 0.9967 - 4s/epoch - 7ms/step\n",
            "Epoch 28/65\n",
            "540/540 - 4s - loss: 0.0059 - accuracy: 0.9981 - val_loss: 0.0068 - val_accuracy: 0.9977 - 4s/epoch - 7ms/step\n",
            "Epoch 29/65\n",
            "540/540 - 4s - loss: 0.0047 - accuracy: 0.9987 - val_loss: 0.0057 - val_accuracy: 0.9980 - 4s/epoch - 7ms/step\n",
            "Epoch 30/65\n",
            "540/540 - 4s - loss: 0.0075 - accuracy: 0.9971 - val_loss: 0.0073 - val_accuracy: 0.9975 - 4s/epoch - 7ms/step\n",
            "Epoch 31/65\n",
            "540/540 - 4s - loss: 0.0069 - accuracy: 0.9977 - val_loss: 0.0103 - val_accuracy: 0.9967 - 4s/epoch - 8ms/step\n",
            "Epoch 32/65\n",
            "540/540 - 4s - loss: 0.0064 - accuracy: 0.9979 - val_loss: 0.0117 - val_accuracy: 0.9953 - 4s/epoch - 8ms/step\n",
            "Epoch 33/65\n",
            "540/540 - 4s - loss: 0.0025 - accuracy: 0.9992 - val_loss: 0.0050 - val_accuracy: 0.9983 - 4s/epoch - 7ms/step\n",
            "Epoch 34/65\n",
            "540/540 - 4s - loss: 0.0044 - accuracy: 0.9987 - val_loss: 0.0193 - val_accuracy: 0.9947 - 4s/epoch - 8ms/step\n",
            "Epoch 35/65\n",
            "540/540 - 4s - loss: 0.0089 - accuracy: 0.9971 - val_loss: 0.0063 - val_accuracy: 0.9975 - 4s/epoch - 7ms/step\n",
            "Epoch 36/65\n",
            "540/540 - 4s - loss: 0.0059 - accuracy: 0.9982 - val_loss: 0.0080 - val_accuracy: 0.9967 - 4s/epoch - 7ms/step\n",
            "Epoch 37/65\n",
            "540/540 - 4s - loss: 0.0034 - accuracy: 0.9990 - val_loss: 0.0041 - val_accuracy: 0.9988 - 4s/epoch - 7ms/step\n",
            "Epoch 38/65\n",
            "540/540 - 4s - loss: 0.0016 - accuracy: 0.9995 - val_loss: 0.0032 - val_accuracy: 0.9985 - 4s/epoch - 8ms/step\n",
            "Epoch 39/65\n",
            "540/540 - 4s - loss: 0.0073 - accuracy: 0.9978 - val_loss: 0.0293 - val_accuracy: 0.9908 - 4s/epoch - 7ms/step\n",
            "Epoch 40/65\n",
            "540/540 - 4s - loss: 0.0054 - accuracy: 0.9980 - val_loss: 0.0047 - val_accuracy: 0.9988 - 4s/epoch - 8ms/step\n",
            "Epoch 41/65\n",
            "540/540 - 4s - loss: 0.0048 - accuracy: 0.9984 - val_loss: 0.0120 - val_accuracy: 0.9952 - 4s/epoch - 8ms/step\n",
            "Epoch 42/65\n",
            "540/540 - 4s - loss: 0.0053 - accuracy: 0.9984 - val_loss: 0.0018 - val_accuracy: 0.9992 - 4s/epoch - 7ms/step\n",
            "Epoch 43/65\n",
            "540/540 - 4s - loss: 0.0019 - accuracy: 0.9994 - val_loss: 0.0116 - val_accuracy: 0.9972 - 4s/epoch - 8ms/step\n",
            "Epoch 44/65\n",
            "540/540 - 4s - loss: 0.0082 - accuracy: 0.9977 - val_loss: 0.0158 - val_accuracy: 0.9953 - 4s/epoch - 8ms/step\n",
            "Epoch 45/65\n",
            "540/540 - 4s - loss: 0.0052 - accuracy: 0.9984 - val_loss: 0.0037 - val_accuracy: 0.9985 - 4s/epoch - 8ms/step\n",
            "Epoch 46/65\n",
            "540/540 - 4s - loss: 0.0024 - accuracy: 0.9994 - val_loss: 0.0030 - val_accuracy: 0.9987 - 4s/epoch - 8ms/step\n",
            "Epoch 47/65\n",
            "540/540 - 4s - loss: 0.0059 - accuracy: 0.9982 - val_loss: 0.0077 - val_accuracy: 0.9973 - 4s/epoch - 8ms/step\n",
            "Epoch 48/65\n",
            "540/540 - 4s - loss: 0.0061 - accuracy: 0.9980 - val_loss: 0.0053 - val_accuracy: 0.9983 - 4s/epoch - 7ms/step\n",
            "Epoch 49/65\n",
            "540/540 - 4s - loss: 0.0040 - accuracy: 0.9986 - val_loss: 0.0080 - val_accuracy: 0.9977 - 4s/epoch - 8ms/step\n",
            "Epoch 50/65\n",
            "540/540 - 4s - loss: 0.0041 - accuracy: 0.9987 - val_loss: 0.0077 - val_accuracy: 0.9975 - 4s/epoch - 7ms/step\n",
            "Epoch 51/65\n",
            "540/540 - 4s - loss: 0.0018 - accuracy: 0.9995 - val_loss: 0.0019 - val_accuracy: 0.9995 - 4s/epoch - 7ms/step\n",
            "Epoch 52/65\n",
            "540/540 - 4s - loss: 0.0018 - accuracy: 0.9994 - val_loss: 0.0088 - val_accuracy: 0.9973 - 4s/epoch - 8ms/step\n",
            "Epoch 53/65\n",
            "540/540 - 4s - loss: 0.0103 - accuracy: 0.9970 - val_loss: 0.0201 - val_accuracy: 0.9948 - 4s/epoch - 7ms/step\n",
            "Epoch 54/65\n",
            "540/540 - 4s - loss: 0.0051 - accuracy: 0.9983 - val_loss: 0.0035 - val_accuracy: 0.9988 - 4s/epoch - 7ms/step\n",
            "Epoch 55/65\n",
            "540/540 - 4s - loss: 0.0013 - accuracy: 0.9996 - val_loss: 0.0011 - val_accuracy: 0.9997 - 4s/epoch - 8ms/step\n",
            "Epoch 56/65\n",
            "540/540 - 4s - loss: 0.0020 - accuracy: 0.9994 - val_loss: 0.0043 - val_accuracy: 0.9987 - 4s/epoch - 7ms/step\n",
            "Epoch 57/65\n",
            "540/540 - 4s - loss: 7.4700e-04 - accuracy: 0.9998 - val_loss: 0.0018 - val_accuracy: 0.9990 - 4s/epoch - 8ms/step\n",
            "Epoch 58/65\n",
            "540/540 - 4s - loss: 0.0099 - accuracy: 0.9971 - val_loss: 0.0098 - val_accuracy: 0.9977 - 4s/epoch - 8ms/step\n",
            "Epoch 59/65\n",
            "540/540 - 4s - loss: 0.0055 - accuracy: 0.9983 - val_loss: 0.0064 - val_accuracy: 0.9980 - 4s/epoch - 7ms/step\n",
            "Epoch 60/65\n",
            "540/540 - 4s - loss: 0.0028 - accuracy: 0.9991 - val_loss: 0.0080 - val_accuracy: 0.9982 - 4s/epoch - 8ms/step\n",
            "Epoch 61/65\n",
            "540/540 - 4s - loss: 0.0031 - accuracy: 0.9991 - val_loss: 0.0073 - val_accuracy: 0.9967 - 4s/epoch - 8ms/step\n",
            "Epoch 62/65\n",
            "540/540 - 4s - loss: 0.0037 - accuracy: 0.9987 - val_loss: 0.0090 - val_accuracy: 0.9977 - 4s/epoch - 8ms/step\n",
            "Epoch 63/65\n",
            "540/540 - 4s - loss: 0.0081 - accuracy: 0.9976 - val_loss: 0.0089 - val_accuracy: 0.9972 - 4s/epoch - 7ms/step\n",
            "Epoch 64/65\n",
            "540/540 - 4s - loss: 0.0032 - accuracy: 0.9990 - val_loss: 0.0037 - val_accuracy: 0.9990 - 4s/epoch - 8ms/step\n"
          ]
        }
      ]
    },
    {
      "cell_type": "markdown",
      "source": [
        "## Model 2\n",
        "- Hidden layer size of 200"
      ],
      "metadata": {
        "id": "kaxRh2ceCEo3"
      }
    },
    {
      "cell_type": "code",
      "source": [
        "# dimension of data\n",
        "input_size = 28*28*1\n",
        "# number of targets (0 to 9)\n",
        "output_size = 10\n",
        "# width of nn, number of neurons\n",
        "hidden_layer_size = 200\n",
        "\n",
        "model_2 = tf.keras.Sequential([\n",
        "                               # flatten into one dimensional layer\n",
        "                               tf.keras.layers.Flatten(input_shape=(28,28,1)),\n",
        "\n",
        "                               # assess first hidden layer, relu type of algorithm\n",
        "                               tf.keras.layers.Dense(hidden_layer_size, activation='relu'),\n",
        "\n",
        "                               # assess second hidden layer\n",
        "                               tf.keras.layers.Dense(hidden_layer_size, activation='relu'),\n",
        "\n",
        "                               # address final output layer, use softmax since later must transform data to probability\n",
        "                               tf.keras.layers.Dense(output_size, activation='softmax')\n",
        "                               ])\n",
        "\n",
        "\n",
        "# choose optimizer and loss\n",
        "# sparse categorical crossentropy for data not yet one hot encoded (will apply one hot encoding for output)\n",
        "model_2.compile(optimizer='adam', loss='sparse_categorical_crossentropy', metrics='accuracy')"
      ],
      "metadata": {
        "id": "ksOBHsxHtljH"
      },
      "execution_count": 23,
      "outputs": []
    },
    {
      "cell_type": "code",
      "source": [
        "# assign number of epochs\n",
        "num_epochs = 20\n",
        "\n",
        "# fit model\n",
        "model_2.fit(train_data, epochs=num_epochs, validation_data=(validation_inputs, validation_targets), verbose=2)"
      ],
      "metadata": {
        "colab": {
          "base_uri": "https://localhost:8080/"
        },
        "id": "C94Y_0OCtlgw",
        "outputId": "52113795-4e8a-4598-9c83-dc551e84e6b3"
      },
      "execution_count": 24,
      "outputs": [
        {
          "output_type": "stream",
          "name": "stdout",
          "text": [
            "Epoch 1/20\n",
            "540/540 - 5s - loss: 0.2700 - accuracy: 0.9228 - val_loss: 0.1392 - val_accuracy: 0.9595 - 5s/epoch - 9ms/step\n",
            "Epoch 2/20\n",
            "540/540 - 5s - loss: 0.1015 - accuracy: 0.9693 - val_loss: 0.0977 - val_accuracy: 0.9702 - 5s/epoch - 9ms/step\n",
            "Epoch 3/20\n",
            "540/540 - 4s - loss: 0.0708 - accuracy: 0.9785 - val_loss: 0.0704 - val_accuracy: 0.9783 - 4s/epoch - 8ms/step\n",
            "Epoch 4/20\n",
            "540/540 - 4s - loss: 0.0523 - accuracy: 0.9835 - val_loss: 0.0576 - val_accuracy: 0.9827 - 4s/epoch - 8ms/step\n",
            "Epoch 5/20\n",
            "540/540 - 4s - loss: 0.0380 - accuracy: 0.9884 - val_loss: 0.0469 - val_accuracy: 0.9857 - 4s/epoch - 8ms/step\n",
            "Epoch 6/20\n",
            "540/540 - 4s - loss: 0.0329 - accuracy: 0.9895 - val_loss: 0.0397 - val_accuracy: 0.9895 - 4s/epoch - 8ms/step\n",
            "Epoch 7/20\n",
            "540/540 - 4s - loss: 0.0245 - accuracy: 0.9923 - val_loss: 0.0429 - val_accuracy: 0.9863 - 4s/epoch - 8ms/step\n",
            "Epoch 8/20\n",
            "540/540 - 5s - loss: 0.0222 - accuracy: 0.9929 - val_loss: 0.0299 - val_accuracy: 0.9902 - 5s/epoch - 8ms/step\n",
            "Epoch 9/20\n",
            "540/540 - 5s - loss: 0.0200 - accuracy: 0.9934 - val_loss: 0.0270 - val_accuracy: 0.9922 - 5s/epoch - 9ms/step\n",
            "Epoch 10/20\n",
            "540/540 - 5s - loss: 0.0164 - accuracy: 0.9947 - val_loss: 0.0212 - val_accuracy: 0.9927 - 5s/epoch - 8ms/step\n",
            "Epoch 11/20\n",
            "540/540 - 4s - loss: 0.0173 - accuracy: 0.9945 - val_loss: 0.0193 - val_accuracy: 0.9955 - 4s/epoch - 8ms/step\n",
            "Epoch 12/20\n",
            "540/540 - 5s - loss: 0.0115 - accuracy: 0.9963 - val_loss: 0.0240 - val_accuracy: 0.9918 - 5s/epoch - 8ms/step\n",
            "Epoch 13/20\n",
            "540/540 - 5s - loss: 0.0125 - accuracy: 0.9956 - val_loss: 0.0229 - val_accuracy: 0.9920 - 5s/epoch - 8ms/step\n",
            "Epoch 14/20\n",
            "540/540 - 4s - loss: 0.0126 - accuracy: 0.9959 - val_loss: 0.0149 - val_accuracy: 0.9940 - 4s/epoch - 8ms/step\n",
            "Epoch 15/20\n",
            "540/540 - 4s - loss: 0.0089 - accuracy: 0.9970 - val_loss: 0.0138 - val_accuracy: 0.9947 - 4s/epoch - 8ms/step\n",
            "Epoch 16/20\n",
            "540/540 - 4s - loss: 0.0110 - accuracy: 0.9965 - val_loss: 0.0156 - val_accuracy: 0.9950 - 4s/epoch - 8ms/step\n",
            "Epoch 17/20\n",
            "540/540 - 5s - loss: 0.0074 - accuracy: 0.9975 - val_loss: 0.0151 - val_accuracy: 0.9952 - 5s/epoch - 8ms/step\n",
            "Epoch 18/20\n",
            "540/540 - 4s - loss: 0.0121 - accuracy: 0.9961 - val_loss: 0.0210 - val_accuracy: 0.9922 - 4s/epoch - 8ms/step\n",
            "Epoch 19/20\n",
            "540/540 - 5s - loss: 0.0081 - accuracy: 0.9973 - val_loss: 0.0107 - val_accuracy: 0.9960 - 5s/epoch - 8ms/step\n",
            "Epoch 20/20\n",
            "540/540 - 4s - loss: 0.0078 - accuracy: 0.9974 - val_loss: 0.0150 - val_accuracy: 0.9955 - 4s/epoch - 8ms/step\n"
          ]
        },
        {
          "output_type": "execute_result",
          "data": {
            "text/plain": [
              "<keras.callbacks.History at 0x7f3a92a38750>"
            ]
          },
          "metadata": {},
          "execution_count": 24
        }
      ]
    },
    {
      "cell_type": "code",
      "source": [
        ""
      ],
      "metadata": {
        "id": "XIgnEvnWtleX"
      },
      "execution_count": null,
      "outputs": []
    },
    {
      "cell_type": "code",
      "source": [
        ""
      ],
      "metadata": {
        "id": "sjeZW-NptlSN"
      },
      "execution_count": null,
      "outputs": []
    }
  ]
}