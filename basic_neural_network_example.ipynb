{
 "cells": [
  {
   "cell_type": "markdown",
   "metadata": {},
   "source": [
    "## **Basic Linear Regression**\n",
    "---------\n",
    "### **Building a linear regression model from scratch**"
   ]
  },
  {
   "cell_type": "markdown",
   "metadata": {},
   "source": [
    "#### Import relevant libraries"
   ]
  },
  {
   "cell_type": "code",
   "execution_count": 1,
   "metadata": {},
   "outputs": [],
   "source": [
    "import numpy as np\n",
    "\n",
    "import matplotlib.pyplot as plt\n",
    "from mpl_toolkits.mplot3d import Axes3D"
   ]
  },
  {
   "cell_type": "markdown",
   "metadata": {},
   "source": [
    "#### Generate random data to train model on"
   ]
  },
  {
   "cell_type": "code",
   "execution_count": 2,
   "metadata": {},
   "outputs": [],
   "source": [
    "# assign number of observations we want\n",
    "observations = 1000\n",
    "\n",
    "# creates a one dimensional array of 1000 X 1 with lowest number being -10 and highest being 10\n",
    "xs = np.random.uniform(low=-10, high=10, size=(observations,1))\n",
    "\n",
    "# create another duplicate array to stack\n",
    "zs = np.random.uniform(-10, 10, (observations,1))\n",
    "\n",
    "# stack one dimensional arrays\n",
    "inputs = np.column_stack((xs, zs))"
   ]
  },
  {
   "cell_type": "code",
   "execution_count": 3,
   "metadata": {},
   "outputs": [
    {
     "data": {
      "text/plain": [
       "array([[ 1.23904069, -0.51772602],\n",
       "       [-9.68844447, -7.94751994],\n",
       "       [ 2.4324938 , -5.99850812],\n",
       "       [-6.35111936, -3.93667879],\n",
       "       [-8.43393746, -2.91369581]])"
      ]
     },
     "execution_count": 3,
     "metadata": {},
     "output_type": "execute_result"
    }
   ],
   "source": [
    "# take a look at the first few entries of the array\n",
    "inputs[:5]"
   ]
  },
  {
   "cell_type": "code",
   "execution_count": 4,
   "metadata": {},
   "outputs": [
    {
     "data": {
      "text/plain": [
       "(1000, 2)"
      ]
     },
     "execution_count": 4,
     "metadata": {},
     "output_type": "execute_result"
    }
   ],
   "source": [
    "# verify the shape is 1000 X 2\n",
    "inputs.shape"
   ]
  },
  {
   "cell_type": "markdown",
   "metadata": {},
   "source": [
    "#### Create the targets we will aim at."
   ]
  },
  {
   "cell_type": "markdown",
   "metadata": {},
   "source": [
    "Create our own linear equation to assess whether the model learns the correct equation for the predictions.\n",
    "\n",
    "**$targets = f(x,z) = 2x - 3z + 5 + noise$**\n",
    " - where $5$ is our bias and\n",
    " - where $noise$ is our data's noise (real data always has noise)"
   ]
  },
  {
   "cell_type": "code",
   "execution_count": 5,
   "metadata": {},
   "outputs": [],
   "source": [
    "# assign our noise variable\n",
    "noise = np.random.uniform(-1,1,(observations,1))\n",
    "\n",
    "# manually assign our targets\n",
    "targets = 2*xs + 3*zs + 5 + noise"
   ]
  },
  {
   "cell_type": "code",
   "execution_count": 6,
   "metadata": {},
   "outputs": [
    {
     "data": {
      "text/plain": [
       "(1000, 1)"
      ]
     },
     "execution_count": 6,
     "metadata": {},
     "output_type": "execute_result"
    }
   ],
   "source": [
    "targets.shape"
   ]
  },
  {
   "cell_type": "code",
   "execution_count": 7,
   "metadata": {},
   "outputs": [
    {
     "data": {
      "text/plain": [
       "array([[  5.49528661],\n",
       "       [-37.91275545],\n",
       "       [ -8.75951451],\n",
       "       [-18.76895321],\n",
       "       [-20.22019703]])"
      ]
     },
     "execution_count": 7,
     "metadata": {},
     "output_type": "execute_result"
    }
   ],
   "source": [
    "targets[:5]"
   ]
  },
  {
   "cell_type": "code",
   "execution_count": 34,
   "metadata": {},
   "outputs": [
    {
     "data": {
      "text/plain": [
       "array([  5.49528661, -37.91275545,  -8.75951451, -18.76895321,\n",
       "       -20.22019703,  -7.92908995,  10.11038943,  14.09452018,\n",
       "         8.33608594, -29.51249713,  35.85166951, -39.99194587,\n",
       "        -2.72487718, -14.23689129, -11.26594219,   6.80476016,\n",
       "        31.35222317,   5.06663663,  17.910575  , -38.11783802,\n",
       "        25.16505517, -25.30805207,  10.50635752,  32.9133484 ,\n",
       "       -41.42537684,  -4.5680362 ,  43.05422522,  -9.13856743,\n",
       "        33.65580661,  23.65079581,  41.20176251, -43.73375846,\n",
       "        41.76379617,  -6.89883466,  11.30974389,  18.33749126,\n",
       "        19.4078576 ,  28.21567692,  -3.02076485,  10.49660085,\n",
       "         4.05454957, -11.83875944, -19.91313958,   9.56676321,\n",
       "         6.46893822,  17.06276971,  27.53269246,  -6.26646664,\n",
       "         9.69889949,  24.58639395])"
      ]
     },
     "execution_count": 34,
     "metadata": {},
     "output_type": "execute_result"
    }
   ],
   "source": [
    "# In order to use the 3D plot, the objects should have a certain shape, so we reshape the targets.\n",
    "# The proper method to use is reshape and takes as arguments the dimensions in which we want to fit the object.\n",
    "targets = targets.reshape(observations,)\n",
    "xs = xs.reshape(observations,)\n",
    "zs = zs.reshape(observations,)\n",
    "\n",
    "\n",
    "targets[:50]"
   ]
  },
  {
   "cell_type": "code",
   "execution_count": 39,
   "metadata": {},
   "outputs": [
    {
     "data": {
      "image/png": "[encoded data removed]",
      "text/plain": [
       "<Figure size 432x288 with 1 Axes>"
      ]
     },
     "metadata": {
      "needs_background": "light"
     },
     "output_type": "display_data"
    }
   ],
   "source": [
    "# declare the axes\n",
    "fig = plt.figure()\n",
    "\n",
    "# create the 3d plot\n",
    "ax = fig.add_subplot(111, projection='3d')\n",
    "\n",
    "# choose/assign the axes\n",
    "ax.plot(xs, zs, targets)\n",
    "\n",
    "# set labels\n",
    "ax.set_xlabel('xs')\n",
    "ax.set_ylabel('zs')\n",
    "ax.set_zlabel('targets')\n",
    "\n",
    "# assess the view of the plot\n",
    "ax.view_init(elev=50, azim=300)\n",
    "\n",
    "plt.show()"
   ]
  },
  {
   "cell_type": "code",
   "execution_count": 31,
   "metadata": {},
   "outputs": [],
   "source": [
    "# reshape variables back to one dimensional arrays\n",
    "targets = targets.reshape(observations,1)\n",
    "xs = xs.reshape(observations,1)\n",
    "zs = zs.reshape(observations,1)"
   ]
  },
  {
   "cell_type": "code",
   "execution_count": null,
   "metadata": {},
   "outputs": [],
   "source": []
  }
 ],
 "metadata": {
  "kernelspec": {
   "display_name": "Python 3",
   "language": "python",
   "name": "python3"
  },
  "language_info": {
   "codemirror_mode": {
    "name": "ipython",
    "version": 3
   },
   "file_extension": ".py",
   "mimetype": "text/x-python",
   "name": "python",
   "nbconvert_exporter": "python",
   "pygments_lexer": "ipython3",
   "version": "3.8.5"
  }
 },
 "nbformat": 4,
 "nbformat_minor": 4
}
