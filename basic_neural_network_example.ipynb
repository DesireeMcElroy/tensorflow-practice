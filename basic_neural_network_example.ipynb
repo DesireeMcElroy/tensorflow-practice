{
  "nbformat": 4,
  "nbformat_minor": 0,
  "metadata": {
    "kernelspec": {
      "display_name": "Python 3",
      "language": "python",
      "name": "python3"
    },
    "language_info": {
      "codemirror_mode": {
        "name": "ipython",
        "version": 3
      },
      "file_extension": ".py",
      "mimetype": "text/x-python",
      "name": "python",
      "nbconvert_exporter": "python",
      "pygments_lexer": "ipython3",
      "version": "3.8.5"
    },
    "colab": {
      "name": "basic_neural_network_example.ipynb",
      "provenance": []
    }
  },
  "cells": [
    {
      "cell_type": "markdown",
      "metadata": {
        "id": "PgDV454IqAhV"
      },
      "source": [
        "## **Basic Linear Regression**\n",
        "---------\n",
        "### **Building a linear regression model from scratch**"
      ]
    },
    {
      "cell_type": "markdown",
      "metadata": {
        "id": "6sLwsaSYqAhW"
      },
      "source": [
        "#### Import relevant libraries"
      ]
    },
    {
      "cell_type": "code",
      "metadata": {
        "id": "OLXpnEOgqAhW"
      },
      "source": [
        "import numpy as np\n",
        "\n",
        "import matplotlib.pyplot as plt\n",
        "from mpl_toolkits.mplot3d import Axes3D"
      ],
      "execution_count": 51,
      "outputs": []
    },
    {
      "cell_type": "markdown",
      "metadata": {
        "id": "6LMITZAEqAhW"
      },
      "source": [
        "#### Generate random data to train model on"
      ]
    },
    {
      "cell_type": "code",
      "metadata": {
        "id": "gguR_3EfqAhW"
      },
      "source": [
        "# assign number of observations we want\n",
        "observations = 1000\n",
        "\n",
        "# creates a one dimensional array of 1000 X 1 with lowest number being -10 and highest being 10\n",
        "xs = np.random.uniform(low=-10, high=10, size=(observations,1))\n",
        "\n",
        "# create another duplicate array to stack\n",
        "zs = np.random.uniform(-10, 10, (observations,1))\n",
        "\n",
        "# stack one dimensional arrays\n",
        "inputs = np.column_stack((xs, zs))"
      ],
      "execution_count": 52,
      "outputs": []
    },
    {
      "cell_type": "code",
      "metadata": {
        "colab": {
          "base_uri": "https://localhost:8080/"
        },
        "id": "ss7hLI_QqAhX",
        "outputId": "4dca6c96-0111-47f7-87fb-31c478741ab7"
      },
      "source": [
        "# take a look at the first few entries of the array\n",
        "inputs[:5]"
      ],
      "execution_count": 53,
      "outputs": [
        {
          "output_type": "execute_result",
          "data": {
            "text/plain": [
              "array([[ 5.55754372,  9.0868172 ],\n",
              "       [ 0.72756516,  3.65920906],\n",
              "       [ 7.99964523, -6.20734621],\n",
              "       [ 6.33796099, -1.10811809],\n",
              "       [-5.07986594,  7.29453941]])"
            ]
          },
          "metadata": {},
          "execution_count": 53
        }
      ]
    },
    {
      "cell_type": "code",
      "metadata": {
        "colab": {
          "base_uri": "https://localhost:8080/"
        },
        "id": "I96vy-OzqAhX",
        "outputId": "1d6b9bc1-5b87-49ba-f4ba-f192cf1d11ee"
      },
      "source": [
        "# verify the shape is 1000 X 2\n",
        "inputs.shape"
      ],
      "execution_count": 54,
      "outputs": [
        {
          "output_type": "execute_result",
          "data": {
            "text/plain": [
              "(1000, 2)"
            ]
          },
          "metadata": {},
          "execution_count": 54
        }
      ]
    },
    {
      "cell_type": "markdown",
      "metadata": {
        "id": "s66paKYCqAhX"
      },
      "source": [
        "#### Create the targets we will aim at."
      ]
    },
    {
      "cell_type": "markdown",
      "metadata": {
        "id": "ZtRZ8GMAqAhX"
      },
      "source": [
        "Create our own linear equation to assess whether the model learns the correct equation for the predictions.\n",
        "\n",
        "**$targets = f(x,z) = 2x - 3z + 5 + noise$**\n",
        " - where $5$ is our bias and\n",
        " - where $noise$ is our data's noise (real data always has noise)"
      ]
    },
    {
      "cell_type": "code",
      "metadata": {
        "id": "CCOpdicBqAhY"
      },
      "source": [
        "# assign our noise variable\n",
        "noise = np.random.uniform(-1,1,(observations,1))\n",
        "\n",
        "# manually creating our targets (the target field)\n",
        "targets = 2*xs - 3*zs + 5 + noise"
      ],
      "execution_count": 55,
      "outputs": []
    },
    {
      "cell_type": "code",
      "metadata": {
        "colab": {
          "base_uri": "https://localhost:8080/"
        },
        "id": "byYL-iVHqAhY",
        "outputId": "399d13c5-2df3-47d0-d7e7-6b512148c7f9"
      },
      "source": [
        "targets.shape"
      ],
      "execution_count": 56,
      "outputs": [
        {
          "output_type": "execute_result",
          "data": {
            "text/plain": [
              "(1000, 1)"
            ]
          },
          "metadata": {},
          "execution_count": 56
        }
      ]
    },
    {
      "cell_type": "code",
      "metadata": {
        "colab": {
          "base_uri": "https://localhost:8080/"
        },
        "id": "0YX3Nzy_qAhY",
        "outputId": "e98b90cc-ea73-4889-afd5-5addce5ae5be"
      },
      "source": [
        "targets[:5]"
      ],
      "execution_count": 57,
      "outputs": [
        {
          "output_type": "execute_result",
          "data": {
            "text/plain": [
              "array([[-11.3704837 ],\n",
              "       [ -5.26238617],\n",
              "       [ 39.25326479],\n",
              "       [ 21.93636817],\n",
              "       [-28.00449141]])"
            ]
          },
          "metadata": {},
          "execution_count": 57
        }
      ]
    },
    {
      "cell_type": "markdown",
      "metadata": {
        "id": "PbRrgOU8qs9d"
      },
      "source": [
        "**For Plotting**"
      ]
    },
    {
      "cell_type": "code",
      "metadata": {
        "colab": {
          "base_uri": "https://localhost:8080/"
        },
        "id": "r71O4qIMqAhY",
        "outputId": "c0adc235-3ecb-496f-a3f2-8163378038eb"
      },
      "source": [
        "# In order to use the 3D plot, the objects should have a certain shape, so we reshape the targets.\n",
        "# The proper method to use is reshape and takes as arguments the dimensions in which we want to fit the object.\n",
        "\n",
        "# reshape into an array of just 1000 entries\n",
        "targets = targets.reshape(observations,)\n",
        "xs = xs.reshape(observations,)\n",
        "zs = zs.reshape(observations,)\n",
        "\n",
        "# get one giant array\n",
        "targets[:50]"
      ],
      "execution_count": 58,
      "outputs": [
        {
          "output_type": "execute_result",
          "data": {
            "text/plain": [
              "array([-1.13704837e+01, -5.26238617e+00,  3.92532648e+01,  2.19363682e+01,\n",
              "       -2.80044914e+01,  7.24597372e-01,  1.84948989e+01,  2.51994895e+01,\n",
              "        2.78808131e+01, -8.72992748e+00,  2.56715029e+00,  3.34065396e+00,\n",
              "        2.90797762e+01, -1.51889137e+01,  1.28856136e+01, -2.34979953e+01,\n",
              "        4.12135160e+01, -7.14912782e-01, -1.04586915e-02,  1.15836384e+01,\n",
              "       -3.35202533e+00,  2.88713287e+01,  1.69254030e+01,  8.05315555e+00,\n",
              "       -4.27833500e+01,  2.69632015e+01,  9.36522657e+00,  2.07104317e+01,\n",
              "        1.19545497e+01, -4.10874852e+00,  1.18678626e+01,  4.95968702e+00,\n",
              "        5.09120866e-01,  2.15585482e+00, -3.51955115e+01,  5.57090969e+00,\n",
              "       -1.63058043e+01, -3.63319885e+01,  3.17270434e+01,  2.90305672e+01,\n",
              "        3.43941432e+01,  5.31222633e+00, -6.23413904e+00, -2.48500655e+01,\n",
              "        2.02484634e+01,  5.48383196e+00, -1.77889239e+01, -1.32929974e+01,\n",
              "       -8.27847031e+00, -2.57586185e+00])"
            ]
          },
          "metadata": {},
          "execution_count": 58
        }
      ]
    },
    {
      "cell_type": "code",
      "metadata": {
        "colab": {
          "base_uri": "https://localhost:8080/",
          "height": 248
        },
        "id": "CZKnEScGqAhY",
        "outputId": "2212a694-2c88-4da5-da8e-dd9a870c5841"
      },
      "source": [
        "# declare the axes\n",
        "fig = plt.figure()\n",
        "\n",
        "# create the 3d plot\n",
        "ax = fig.add_subplot(111, projection='3d')\n",
        "\n",
        "# choose/assign the axes\n",
        "ax.plot(xs, zs, targets)\n",
        "\n",
        "# set labels\n",
        "ax.set_xlabel('xs')\n",
        "ax.set_ylabel('zs')\n",
        "ax.set_zlabel('targets')\n",
        "\n",
        "# assess the view of the plot\n",
        "ax.view_init(elev=50, azim=50)\n",
        "\n",
        "plt.show()"
      ],
      "execution_count": 59,
      "outputs": [
        {
          "output_type": "display_data",
          "data": {
            "image/png": "[encoded data removed]",
            "text/plain": [
              "<Figure size 432x288 with 1 Axes>"
            ]
          },
          "metadata": {
            "needs_background": "light"
          }
        }
      ]
    },
    {
      "cell_type": "code",
      "metadata": {
        "id": "oHCsCmf9qAhY"
      },
      "source": [
        "# reshape variables back to one dimensional arrays\n",
        "targets = targets.reshape(observations,1)\n",
        "xs = xs.reshape(observations,1)\n",
        "zs = zs.reshape(observations,1)"
      ],
      "execution_count": 60,
      "outputs": []
    },
    {
      "cell_type": "markdown",
      "metadata": {
        "id": "bOc-k2UDqAhZ"
      },
      "source": [
        "#### Initialize Variables"
      ]
    },
    {
      "cell_type": "code",
      "metadata": {
        "colab": {
          "base_uri": "https://localhost:8080/"
        },
        "id": "-QlElhohqAhZ",
        "outputId": "6c879613-f92b-4053-e115-45b5337a71a7"
      },
      "source": [
        "# radius of range to initialize weights and biases from -0.1 to 0.1\n",
        "init_range = 0.1\n",
        "\n",
        "# assign random values to weights, create 2 X 1 matrix since there are two variables, we need two weights\n",
        "weights = np.random.uniform(-init_range, init_range, size=(2,1))\n",
        "\n",
        "# bias is scalar so appropriate shape is 1 X 1\n",
        "# there are as many biases as there are outputs\n",
        "biases = np.random.uniform(-init_range, init_range, size=1)\n",
        "\n",
        "print(\"Weights are\\n\",weights)\n",
        "print(\"-------\")\n",
        "print(\"Biases are\\n\",biases)"
      ],
      "execution_count": 61,
      "outputs": [
        {
          "output_type": "stream",
          "name": "stdout",
          "text": [
            "Weights are\n",
            " [[-0.04767495]\n",
            " [-0.03164152]]\n",
            "-------\n",
            "Biases are\n",
            " [-0.09420218]\n"
          ]
        }
      ]
    },
    {
      "cell_type": "markdown",
      "metadata": {
        "id": "TE6Qu9vyqAhZ"
      },
      "source": [
        "#### Set a learning rate"
      ]
    },
    {
      "cell_type": "code",
      "metadata": {
        "id": "k9zMkgH8qAhZ"
      },
      "source": [
        "learning_rate = 0.02"
      ],
      "execution_count": 62,
      "outputs": []
    },
    {
      "cell_type": "code",
      "metadata": {
        "colab": {
          "base_uri": "https://localhost:8080/"
        },
        "id": "1HpggtfVuCbh",
        "outputId": "e02a6e92-349c-4227-df8c-ef44488ba307"
      },
      "source": [
        "# visualize xs and zs\n",
        "inputs[:5]"
      ],
      "execution_count": 63,
      "outputs": [
        {
          "output_type": "execute_result",
          "data": {
            "text/plain": [
              "array([[ 5.55754372,  9.0868172 ],\n",
              "       [ 0.72756516,  3.65920906],\n",
              "       [ 7.99964523, -6.20734621],\n",
              "       [ 6.33796099, -1.10811809],\n",
              "       [-5.07986594,  7.29453941]])"
            ]
          },
          "metadata": {},
          "execution_count": 63
        }
      ]
    },
    {
      "cell_type": "markdown",
      "metadata": {
        "id": "NPcFiuSMqAhZ"
      },
      "source": [
        "#### Train the Model"
      ]
    },
    {
      "cell_type": "code",
      "metadata": {
        "colab": {
          "base_uri": "https://localhost:8080/"
        },
        "id": "VWiInh_-qAha",
        "outputId": "749cfd9b-6442-4e87-dbf0-d84269f6b98d"
      },
      "source": [
        "# looping through dataset 100 times\n",
        "for i in range(100):\n",
        "    \n",
        "    # calculates outputs (aka prediction) for given weights and biases\n",
        "    outputs = np.dot(inputs, weights) + biases # dot product of inputs X weights\n",
        "    # calculate deltas (aka residuals)\n",
        "    deltas = outputs - targets\n",
        "    \n",
        "    # based off L2-norm loss formula, aka the type of algorithm (summation(yi - ti)^2) or MSE\n",
        "    # calculates loss function that compares outputs to the targets\n",
        "    loss = np.sum(deltas ** 2) / 2 / observations # avg loss/observation aka mean loss\n",
        "    \n",
        "    # keep track of loss to see if decreasing, which is good\n",
        "    print(loss)\n",
        "    \n",
        "    deltas_scaled = deltas / observations\n",
        "    \n",
        "    weights = weights - learning_rate * np.dot(inputs.T, deltas_scaled)\n",
        "    biases = biases - learning_rate * np.sum(deltas_scaled)"
      ],
      "execution_count": 64,
      "outputs": [
        {
          "output_type": "stream",
          "name": "stdout",
          "text": [
            "231.13433224982623\n",
            "37.938181262108486\n",
            "14.92006981718459\n",
            "11.820670357612505\n",
            "11.067072949311274\n",
            "10.603288841697886\n",
            "10.188202198073443\n",
            "9.793019832176372\n",
            "9.41381288950716\n",
            "9.049584242765084\n",
            "8.699701082668424\n",
            "8.363593574344344\n",
            "8.040718775427464\n",
            "7.730555641691074\n",
            "7.432603703780425\n",
            "7.146382203119153\n",
            "6.871429309551093\n",
            "6.607301375379842\n",
            "6.353572219433665\n",
            "6.109832439394104\n",
            "5.875688751207395\n",
            "5.650763354504494\n",
            "5.434693323004798\n",
            "5.227130018919816\n",
            "5.027738530411903\n",
            "4.836197131200405\n",
            "4.652196761443176\n",
            "4.475440529055983\n",
            "4.305643230665017\n",
            "4.142530891419663\n",
            "3.9858403229229227\n",
            "3.83531869856622\n",
            "3.6907231455833935\n",
            "3.5518203531655868\n",
            "3.4183861960047826\n",
            "3.2902053726584866\n",
            "3.167071058152087\n",
            "3.0487845702583507\n",
            "2.9351550489155636\n",
            "2.825999148267038\n",
            "2.721140740825135\n",
            "2.62041063328238\n",
            "2.523646293511184\n",
            "2.4306915883116336\n",
            "2.34139653148423\n",
            "2.255617041821045\n",
            "2.173214710624833\n",
            "2.094056578380959\n",
            "2.018014920221817\n",
            "1.9449670398375616\n",
            "1.8747950715006112\n",
            "1.8073857898845023\n",
            "1.7426304273702236\n",
            "1.6804244985452286\n",
            "1.6206676316119746\n",
            "1.5632634064339421\n",
            "1.5081191989578246\n",
            "1.4551460317608416\n",
            "1.4042584304820511\n",
            "1.3553742859059916\n",
            "1.3084147214761177\n",
            "1.263303966024267\n",
            "1.2199692315108004\n",
            "1.1783405955781336\n",
            "1.1383508887281704\n",
            "1.099935585941584\n",
            "1.0630327025640696\n",
            "1.027582694291588\n",
            "0.9935283610932022\n",
            "0.9608147549165044\n",
            "0.929389091026693\n",
            "0.8992006628362592\n",
            "0.8702007600878419\n",
            "0.8423425902582459\n",
            "0.815581203056801\n",
            "0.789873417896243\n",
            "0.7651777542190702\n",
            "0.7414543645669865\n",
            "0.7186649702853972\n",
            "0.6967727997592461\n",
            "0.675742529080519\n",
            "0.6555402250516775\n",
            "0.636133290433067\n",
            "0.617490411345943\n",
            "0.5995815067462513\n",
            "0.5823776798876433\n",
            "0.5658511716953977\n",
            "0.5499753159760217\n",
            "0.5347244963902669\n",
            "0.5200741051201216\n",
            "0.5060005031630938\n",
            "0.49248098218972086\n",
            "0.4794937279027537\n",
            "0.4670177848389025\n",
            "0.4550330225563427\n",
            "0.44352010315342816\n",
            "0.43246045006620043\n",
            "0.42183621809434546\n",
            "0.4116302646072391\n",
            "0.4018261218836124\n"
          ]
        }
      ]
    },
    {
      "cell_type": "markdown",
      "metadata": {
        "id": "fveiqzKRqAha"
      },
      "source": [
        "#### Print weights and biases to see if we have worked correctly\n",
        "**Recall:**\n",
        "    The sought dependence was\n",
        "    **t = f(xs, zs) = 2xs - 3zs + 5 + noise**"
      ]
    },
    {
      "cell_type": "code",
      "metadata": {
        "colab": {
          "base_uri": "https://localhost:8080/"
        },
        "id": "9tB8XCd_qAha",
        "outputId": "2eb4ede0-74e5-49d3-b4e8-12e25849d3c3"
      },
      "source": [
        "print(\"Weights are\\n\",weights)\n",
        "print(\"---------\")\n",
        "print(\"Bias is\\n\", biases)"
      ],
      "execution_count": 65,
      "outputs": [
        {
          "output_type": "stream",
          "name": "stdout",
          "text": [
            "Weights are\n",
            " [[ 2.00333842]\n",
            " [-3.00475725]]\n",
            "---------\n",
            "Bias is\n",
            " [4.3167617]\n"
          ]
        }
      ]
    },
    {
      "cell_type": "markdown",
      "metadata": {
        "id": "G-h50SaxqAha"
      },
      "source": [
        "**Takeaway**\n",
        "- Weights just about match our coefficient for $x$ and $z$\n",
        "- Bias is a bit off because we used too few iterations (100)"
      ]
    },
    {
      "cell_type": "markdown",
      "metadata": {
        "id": "XqOH967NqAha"
      },
      "source": [
        "Re-run code to optimize algorithm for another 100 iterations."
      ]
    },
    {
      "cell_type": "code",
      "metadata": {
        "colab": {
          "base_uri": "https://localhost:8080/"
        },
        "id": "aFP5Y2YEqAhb",
        "outputId": "2595a1e8-1647-4978-f1c6-87403753edbb"
      },
      "source": [
        "for i in range(100):\n",
        "    \n",
        "    # calculates outputs for given weights and biases\n",
        "    outputs = np.dot(inputs, weights) + biases # dot product of inputs X weights\n",
        "    deltas = outputs - targets\n",
        "    \n",
        "    # based off L2-norm loss formula (summation(yi - ti)^2)\n",
        "    # calculates loss function that compares outputs to the targets\n",
        "    loss = np.sum(deltas ** 2) / 2 / observations # avg loss/observation aka mean loss\n",
        "    \n",
        "    # keep track of loss to see if decreasing, which is good\n",
        "    print(loss)\n",
        "    \n",
        "    deltas_scaled = deltas / observations\n",
        "    \n",
        "    weights = weights - learning_rate * np.dot(inputs.T, deltas_scaled)\n",
        "    biases = biases - learning_rate * np.sum(deltas_scaled)"
      ],
      "execution_count": 66,
      "outputs": [
        {
          "output_type": "stream",
          "name": "stdout",
          "text": [
            "0.3924079705402164\n",
            "0.38336061400659843\n",
            "0.3746694540048222\n",
            "0.3663204669945516\n",
            "0.3583001815454938\n",
            "0.35059565660070297\n",
            "0.3431944605956558\n",
            "0.3360846513994165\n",
            "0.3292547570455243\n",
            "0.32269375722150495\n",
            "0.316391065487153\n",
            "0.3103365121928742\n",
            "0.3045203280705483\n",
            "0.2989331284704115\n",
            "0.2935658982185461\n",
            "0.28840997707052896\n",
            "0.28345704573777436\n",
            "0.2786991124640242\n",
            "0.27412850013032486\n",
            "0.26973783386768024\n",
            "0.2655200291574038\n",
            "0.26146828039995773\n",
            "0.25757604993384225\n",
            "0.2538370574868109\n",
            "0.2502452700423975\n",
            "0.2467948921053977\n",
            "0.24348035635060183\n",
            "0.240296314639689\n",
            "0.23723762939178902\n",
            "0.23429936529378495\n",
            "0.23147678133698635\n",
            "0.22876532316731807\n",
            "0.226160615736684\n",
            "0.22365845624364997\n",
            "0.22125480735205202\n",
            "0.21894579067659092\n",
            "0.21672768052489794\n",
            "0.214596897885981\n",
            "0.21255000465534266\n",
            "0.2105836980874599\n",
            "0.20869480546666966\n",
            "0.2068802789878619\n",
            "0.20513719083872364\n",
            "0.20346272847559407\n",
            "0.20185419008530997\n",
            "0.2003089802257216\n",
            "0.19882460563784024\n",
            "0.19739867122286398\n",
            "0.19602887617758769\n",
            "0.19471301028196417\n",
            "0.19344895033282347\n",
            "0.1922346567179981\n",
            "0.19106817012532695\n",
            "0.18994760838122396\n",
            "0.18887116341371557\n",
            "0.1878370983350423\n",
            "0.1868437446391196\n",
            "0.18588949950933617\n",
            "0.18497282323234343\n",
            "0.18409223671366562\n",
            "0.18324631909112044\n",
            "0.18243370544220075\n",
            "0.18165308458171564\n",
            "0.18090319694614046\n",
            "0.18018283256125964\n",
            "0.179490829089824\n",
            "0.17882606995607214\n",
            "0.17818748254409042\n",
            "0.17757403646710299\n",
            "0.17698474190490168\n",
            "0.1764186480067296\n",
            "0.17587484135704573\n",
            "0.17535244450169124\n",
            "0.17485061453208203\n",
            "0.17436854172514046\n",
            "0.1739054482367758\n",
            "0.1734605868467993\n",
            "0.17303323975325516\n",
            "0.17262271741421784\n",
            "0.17222835743518758\n",
            "0.17184952350029029\n",
            "0.17148560434555588\n",
            "0.17113601277261917\n",
            "0.17080018470125094\n",
            "0.17047757825919196\n",
            "0.1701676729078202\n",
            "0.16986996860223968\n",
            "0.1695839849844389\n",
            "0.1693092606082127\n",
            "0.16904535219460082\n",
            "0.16879183391663816\n",
            "0.16854829671226695\n",
            "0.16831434762429728\n",
            "0.16808960916635562\n",
            "0.16787371871379453\n",
            "0.16766632791858382\n",
            "0.1674671021472356\n",
            "0.16727571994086043\n",
            "0.16709187249648072\n",
            "0.16691526316876332\n"
          ]
        }
      ]
    },
    {
      "cell_type": "code",
      "metadata": {
        "colab": {
          "base_uri": "https://localhost:8080/"
        },
        "id": "yljJ0AiZqAhb",
        "outputId": "477c5f85-df36-499d-c25c-70c329d4bd66"
      },
      "source": [
        "print(\"Weights are\\n\",weights)\n",
        "print(\"---------\")\n",
        "print(\"Bias is\\n\", biases)"
      ],
      "execution_count": 67,
      "outputs": [
        {
          "output_type": "stream",
          "name": "stdout",
          "text": [
            "Weights are\n",
            " [[ 2.00688619]\n",
            " [-2.99746501]]\n",
            "---------\n",
            "Bias is\n",
            " [4.90538441]\n"
          ]
        }
      ]
    },
    {
      "cell_type": "markdown",
      "metadata": {
        "id": "SuamCBKLqAhb"
      },
      "source": [
        "**Takeaway**\n",
        "- Bias improved when we increase number of iterations."
      ]
    },
    {
      "cell_type": "markdown",
      "metadata": {
        "id": "lRg1i7bFqAhb"
      },
      "source": [
        "#### Plot last outputs against targets"
      ]
    },
    {
      "cell_type": "code",
      "metadata": {
        "colab": {
          "base_uri": "https://localhost:8080/",
          "height": 404
        },
        "id": "kZyOzpK-qAhb",
        "outputId": "7e932954-4cd2-4930-b202-e4e4b57025d3"
      },
      "source": [
        "plt.figure(figsize=(12,6))\n",
        "plt.plot(outputs,targets)\n",
        "plt.xlabel('outputs')\n",
        "plt.ylabel('targets')\n",
        "plt.title(\"Outputs versus Targets\");"
      ],
      "execution_count": 68,
      "outputs": [
        {
          "output_type": "display_data",
          "data": {
            "image/png": "[encoded data removed]",
            "text/plain": [
              "<Figure size 864x432 with 1 Axes>"
            ]
          },
          "metadata": {
            "needs_background": "light"
          }
        }
      ]
    },
    {
      "cell_type": "markdown",
      "metadata": {
        "id": "IRuBrOkMxnrz"
      },
      "source": [
        "**Run again do we see how much further it optimizes**"
      ]
    },
    {
      "cell_type": "code",
      "metadata": {
        "colab": {
          "base_uri": "https://localhost:8080/"
        },
        "id": "PwpWZ2G0woQ3",
        "outputId": "39f4eaa6-c985-4ecc-c812-70a0aa5d6589"
      },
      "source": [
        "for i in range(100):\n",
        "    \n",
        "    # calculates outputs for given weights and biases\n",
        "    outputs = np.dot(inputs, weights) + biases # dot product of inputs X weights\n",
        "    deltas = outputs - targets\n",
        "    \n",
        "    # based off L2-norm loss formula (summation(yi - ti)^2)\n",
        "    # calculates loss function that compares outputs to the targets\n",
        "    loss = np.sum(deltas ** 2) / 2 / observations # avg loss/observation aka mean loss\n",
        "    \n",
        "    # keep track of loss to see if decreasing, which is good\n",
        "    print(loss)\n",
        "    \n",
        "    deltas_scaled = deltas / observations\n",
        "    \n",
        "    weights = weights - learning_rate * np.dot(inputs.T, deltas_scaled)\n",
        "    biases = biases - learning_rate * np.sum(deltas_scaled)"
      ],
      "execution_count": 69,
      "outputs": [
        {
          "output_type": "stream",
          "name": "stdout",
          "text": [
            "0.1667456069913711\n",
            "0.16658263021715797\n",
            "0.1664260698764665\n",
            "0.16627567335281612\n",
            "0.1661311979752957\n",
            "0.1659924106270044\n",
            "0.16585908736890798\n",
            "0.16573101307850407\n",
            "0.16560798110271344\n",
            "0.1654897929244363\n",
            "0.16537625784223764\n",
            "0.16526719266264223\n",
            "0.16516242140454437\n",
            "0.1650617750152557\n",
            "0.1649650910977316\n",
            "0.16487221364853644\n",
            "0.16478299280612657\n",
            "0.16469728460904207\n",
            "0.1646149507636191\n",
            "0.16453585842084767\n",
            "0.16445987996201406\n",
            "0.1643868927927833\n",
            "0.16431677914538756\n",
            "0.16424942588860364\n",
            "0.16418472434521075\n",
            "0.16412257011663597\n",
            "0.16406286291450198\n",
            "0.16400550639880845\n",
            "0.16395040802248345\n",
            "0.1638974788820545\n",
            "0.16384663357419957\n",
            "0.16379779005794534\n",
            "0.163750869522291\n",
            "0.16370579625904264\n",
            "0.16366249754065587\n",
            "0.1636209035028867\n",
            "0.16358094703206238\n",
            "0.16354256365679143\n",
            "0.16350569144393584\n",
            "0.16347027089867963\n",
            "0.16343624486853178\n",
            "0.1634035584511079\n",
            "0.16337215890554335\n",
            "0.1633419955673937\n",
            "0.1633130197668853\n",
            "0.16328518475038492\n",
            "0.16325844560496075\n",
            "0.16323275918591346\n",
            "0.16320808404716078\n",
            "0.16318438037436211\n",
            "0.16316160992067674\n",
            "0.1631397359450513\n",
            "0.1631187231529358\n",
            "0.16309853763933493\n",
            "0.16307914683410127\n",
            "0.16306051944938152\n",
            "0.1630426254291323\n",
            "0.1630254359006239\n",
            "0.16300892312785248\n",
            "0.16299306046678708\n",
            "0.16297782232237887\n",
            "0.1629631841072615\n",
            "0.16294912220207924\n",
            "0.16293561391737593\n",
            "0.1629226374569845\n",
            "0.16291017188285797\n",
            "0.16289819708128528\n",
            "0.16288669373043674\n",
            "0.16287564326918763\n",
            "0.1628650278671692\n",
            "0.16285483039599813\n",
            "0.1628450344016398\n",
            "0.1628356240778586\n",
            "0.16282658424071433\n",
            "0.16281790030406174\n",
            "0.16280955825601576\n",
            "0.1628015446363423\n",
            "0.16279384651474005\n",
            "0.1627864514699764\n",
            "0.16277934756984574\n",
            "0.16277252335191617\n",
            "0.1627659678050343\n",
            "0.1627596703515585\n",
            "0.16275362083029138\n",
            "0.162747809480084\n",
            "0.16274222692408655\n",
            "0.16273686415461772\n",
            "0.1627317125186305\n",
            "0.1627267637037508\n",
            "0.16272200972486447\n",
            "0.16271744291123302\n",
            "0.16271305589411683\n",
            "0.16270884159488525\n",
            "0.162704793213595\n",
            "0.16270090421801808\n",
            "0.16269716833310202\n",
            "0.16269357953084426\n",
            "0.1626901320205664\n",
            "0.16268682023957035\n",
            "0.1626836388441627\n"
          ]
        }
      ]
    },
    {
      "cell_type": "code",
      "metadata": {
        "colab": {
          "base_uri": "https://localhost:8080/"
        },
        "id": "AxAgkA7Uwrnp",
        "outputId": "73c7c206-aa03-45ea-cec7-8fd50b2e67f3"
      },
      "source": [
        "print(\"Weights are\\n\",weights)\n",
        "print(\"---------\")\n",
        "print(\"Bias is\\n\", biases)"
      ],
      "execution_count": 70,
      "outputs": [
        {
          "output_type": "stream",
          "name": "stdout",
          "text": [
            "Weights are\n",
            " [[ 2.00736235]\n",
            " [-2.99648628]]\n",
            "---------\n",
            "Bias is\n",
            " [4.98438658]\n"
          ]
        }
      ]
    },
    {
      "cell_type": "markdown",
      "metadata": {
        "id": "XOE64v6hqAhb"
      },
      "source": [
        "Practice with more time:\n",
        "\n",
        "\n",
        "Using the same code as before, please solve the following exercises:\n",
        "\n",
        "    1. Change the number of observations to 100,000 and see what happens.\n",
        "\n",
        "    2. Change the number of observations to 1,000,000 and see what happens.\n",
        "\n",
        "    3. Play around with the learning rate. Values like:\n",
        "\n",
        "    a) 0.0001 \n",
        "\n",
        "    b) 0.001\n",
        "\n",
        "    c) 0.1\n",
        "\n",
        "    d) 1 \n",
        "\n",
        "\n",
        "    4. Change the loss function. L2-norm loss (without dividing by 2) is a good way to start.\n",
        "\n",
        "    5. Тry with the L1-norm loss, given by the sum of the ABSOLUTE value of yj - tj. You can check the exact formula in the respective notebook.\n",
        "\n",
        "    6. Create a function f(x,z) = 13*xs + 7*zs - 12. Does the algorithm work in the same way?"
      ]
    },
    {
      "cell_type": "code",
      "metadata": {
        "id": "ow3zwjhMqAhb"
      },
      "source": [
        ""
      ],
      "execution_count": 17,
      "outputs": []
    }
  ]
}