{
  "nbformat": 4,
  "nbformat_minor": 0,
  "metadata": {
    "colab": {
      "name": "tf_example.ipynb",
      "provenance": [],
      "authorship_tag": "ABX9TyMA1xtLKZWgii1cCJM8Ib8s"
    },
    "kernelspec": {
      "name": "python3",
      "display_name": "Python 3"
    },
    "language_info": {
      "name": "python"
    }
  },
  "cells": [
    {
      "cell_type": "markdown",
      "metadata": {
        "id": "HW4mC5vU1cu9"
      },
      "source": [
        "# Tensorflow Practice"
      ]
    },
    {
      "cell_type": "code",
      "metadata": {
        "id": "2fe9eI7g6WIh"
      },
      "source": [
        "import tensorflow as tf"
      ],
      "execution_count": 3,
      "outputs": []
    },
    {
      "cell_type": "code",
      "metadata": {
        "id": "hEOtfut2zVPC",
        "colab": {
          "base_uri": "https://localhost:8080/"
        },
        "outputId": "141d4394-5ed3-4265-9ae1-fc1b19a462d9"
      },
      "source": [
        "print(tf.__version__)"
      ],
      "execution_count": null,
      "outputs": [
        {
          "output_type": "stream",
          "name": "stdout",
          "text": [
            "2.6.0\n"
          ]
        }
      ]
    },
    {
      "cell_type": "code",
      "metadata": {
        "id": "loi-41Ic36s6"
      },
      "source": [
        ""
      ],
      "execution_count": null,
      "outputs": []
    }
  ]
}